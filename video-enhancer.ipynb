{
 "cells": [
  {
   "cell_type": "code",
   "execution_count": 1,
   "id": "c1f48332",
   "metadata": {
    "_cell_guid": "b1076dfc-b9ad-4769-8c92-a6c4dae69d19",
    "_uuid": "8f2839f25d086af736a60e9eeb907d3b93b6e0e5",
    "execution": {
     "iopub.execute_input": "2023-12-15T17:27:37.728228Z",
     "iopub.status.busy": "2023-12-15T17:27:37.727233Z",
     "iopub.status.idle": "2023-12-15T17:27:38.247356Z",
     "shell.execute_reply": "2023-12-15T17:27:38.245679Z"
    },
    "papermill": {
     "duration": 0.529652,
     "end_time": "2023-12-15T17:27:38.250328",
     "exception": false,
     "start_time": "2023-12-15T17:27:37.720676",
     "status": "completed"
    },
    "tags": []
   },
   "outputs": [
    {
     "name": "stdout",
     "output_type": "stream",
     "text": [
      "/kaggle/input/video-enhancement/test1.mp4\n"
     ]
    }
   ],
   "source": [
    "# This Python 3 environment comes with many helpful analytics libraries installed\n",
    "# It is defined by the kaggle/python Docker image: https://github.com/kaggle/docker-python\n",
    "# For example, here's several helpful packages to load\n",
    "\n",
    "import numpy as np # linear algebra\n",
    "import pandas as pd # data processing, CSV file I/O (e.g. pd.read_csv)\n",
    "\n",
    "# Input data files are available in the read-only \"../input/\" directory\n",
    "# For example, running this (by clicking run or pressing Shift+Enter) will list all files under the input directory\n",
    "\n",
    "import os\n",
    "for dirname, _, filenames in os.walk('/kaggle/input'):\n",
    "    for filename in filenames:\n",
    "        print(os.path.join(dirname, filename))\n",
    "\n",
    "# You can write up to 20GB to the current directory (/kaggle/working/) that gets preserved as output when you create a version using \"Save & Run All\" \n",
    "# You can also write temporary files to /kaggle/temp/, but they won't be saved outside of the current session"
   ]
  },
  {
   "cell_type": "code",
   "execution_count": 2,
   "id": "1b134ba8",
   "metadata": {
    "execution": {
     "iopub.execute_input": "2023-12-15T17:27:38.260833Z",
     "iopub.status.busy": "2023-12-15T17:27:38.260199Z",
     "iopub.status.idle": "2023-12-15T17:27:38.501897Z",
     "shell.execute_reply": "2023-12-15T17:27:38.500447Z"
    },
    "papermill": {
     "duration": 0.250337,
     "end_time": "2023-12-15T17:27:38.505136",
     "exception": false,
     "start_time": "2023-12-15T17:27:38.254799",
     "status": "completed"
    },
    "tags": []
   },
   "outputs": [],
   "source": [
    "# Import following library.\n",
    "\n",
    "import cv2"
   ]
  },
  {
   "cell_type": "code",
   "execution_count": 3,
   "id": "5127b5e9",
   "metadata": {
    "execution": {
     "iopub.execute_input": "2023-12-15T17:27:38.516226Z",
     "iopub.status.busy": "2023-12-15T17:27:38.514956Z",
     "iopub.status.idle": "2023-12-15T17:27:38.619340Z",
     "shell.execute_reply": "2023-12-15T17:27:38.618043Z"
    },
    "papermill": {
     "duration": 0.112923,
     "end_time": "2023-12-15T17:27:38.622232",
     "exception": false,
     "start_time": "2023-12-15T17:27:38.509309",
     "status": "completed"
    },
    "tags": []
   },
   "outputs": [],
   "source": [
    "# Define a video capture object.\n",
    "\n",
    "vidcap = cv2.VideoCapture(\"/kaggle/input/video-enhancement/test1.mp4\")"
   ]
  },
  {
   "cell_type": "code",
   "execution_count": 4,
   "id": "54cb1b7c",
   "metadata": {
    "execution": {
     "iopub.execute_input": "2023-12-15T17:27:38.632891Z",
     "iopub.status.busy": "2023-12-15T17:27:38.632031Z",
     "iopub.status.idle": "2023-12-15T17:27:38.663854Z",
     "shell.execute_reply": "2023-12-15T17:27:38.662710Z"
    },
    "papermill": {
     "duration": 0.040583,
     "end_time": "2023-12-15T17:27:38.666989",
     "exception": false,
     "start_time": "2023-12-15T17:27:38.626406",
     "status": "completed"
    },
    "tags": []
   },
   "outputs": [],
   "source": [
    "# Capture video frame by frame \n",
    "\n",
    "success, image = vidcap.read() "
   ]
  },
  {
   "cell_type": "code",
   "execution_count": 5,
   "id": "65d63f6a",
   "metadata": {
    "execution": {
     "iopub.execute_input": "2023-12-15T17:27:38.677568Z",
     "iopub.status.busy": "2023-12-15T17:27:38.677110Z",
     "iopub.status.idle": "2023-12-15T17:27:38.682182Z",
     "shell.execute_reply": "2023-12-15T17:27:38.680963Z"
    },
    "papermill": {
     "duration": 0.013464,
     "end_time": "2023-12-15T17:27:38.684630",
     "exception": false,
     "start_time": "2023-12-15T17:27:38.671166",
     "status": "completed"
    },
    "tags": []
   },
   "outputs": [],
   "source": [
    "# Declare the variable with value 0.\n",
    "\n",
    "count = 0"
   ]
  },
  {
   "cell_type": "code",
   "execution_count": 6,
   "id": "1221f9d6",
   "metadata": {
    "execution": {
     "iopub.execute_input": "2023-12-15T17:27:38.694759Z",
     "iopub.status.busy": "2023-12-15T17:27:38.694316Z",
     "iopub.status.idle": "2023-12-15T17:27:39.192843Z",
     "shell.execute_reply": "2023-12-15T17:27:39.190972Z"
    },
    "papermill": {
     "duration": 0.506018,
     "end_time": "2023-12-15T17:27:39.194775",
     "exception": true,
     "start_time": "2023-12-15T17:27:38.688757",
     "status": "failed"
    },
    "tags": []
   },
   "outputs": [
    {
     "ename": "error",
     "evalue": "OpenCV(4.8.1) /io/opencv/modules/highgui/src/window.cpp:1338: error: (-2:Unspecified error) The function is not implemented. Rebuild the library with Windows, GTK+ 2.x or Cocoa support. If you are on Ubuntu or Debian, install libgtk2.0-dev and pkg-config, then re-run cmake or configure script in function 'cvWaitKey'\n",
     "output_type": "error",
     "traceback": [
      "\u001b[0;31m---------------------------------------------------------------------------\u001b[0m",
      "\u001b[0;31merror\u001b[0m                                     Traceback (most recent call last)",
      "Cell \u001b[0;32mIn[6], line 19\u001b[0m\n\u001b[1;32m     15\u001b[0m cv2\u001b[38;5;241m.\u001b[39mimwrite(\u001b[38;5;124m\"\u001b[39m\u001b[38;5;132;01m%04d\u001b[39;00m\u001b[38;5;124m.jpg\u001b[39m\u001b[38;5;124m\"\u001b[39m \u001b[38;5;241m%\u001b[39m count, resize)\n\u001b[1;32m     17\u001b[0m \u001b[38;5;66;03m# Closing the video by Escape button \u001b[39;00m\n\u001b[0;32m---> 19\u001b[0m \u001b[38;5;28;01mif\u001b[39;00m \u001b[43mcv2\u001b[49m\u001b[38;5;241;43m.\u001b[39;49m\u001b[43mwaitKey\u001b[49m\u001b[43m(\u001b[49m\u001b[38;5;241;43m10\u001b[39;49m\u001b[43m)\u001b[49m \u001b[38;5;241m==\u001b[39m \u001b[38;5;241m27\u001b[39m: \n\u001b[1;32m     20\u001b[0m     \u001b[38;5;28;01mbreak\u001b[39;00m\n",
      "\u001b[0;31merror\u001b[0m: OpenCV(4.8.1) /io/opencv/modules/highgui/src/window.cpp:1338: error: (-2:Unspecified error) The function is not implemented. Rebuild the library with Windows, GTK+ 2.x or Cocoa support. If you are on Ubuntu or Debian, install libgtk2.0-dev and pkg-config, then re-run cmake or configure script in function 'cvWaitKey'\n"
     ]
    }
   ],
   "source": [
    "# Creating a loop for running the video and saving all the frames.\n",
    "\n",
    "while success: \n",
    "  \n",
    "    # Capture video frame by frame \n",
    "    \n",
    "    success, image = vidcap.read() \n",
    "  \n",
    "    # Resize the image frames \n",
    "    \n",
    "    resize = cv2.resize(image, (700, 500)) \n",
    "  \n",
    "    # Saving the frames with certain names \n",
    "    \n",
    "    cv2.imwrite(\"%04d.jpg\" % count, resize)\n",
    "    \n",
    "    # Closing the video by Escape button \n",
    "    \n",
    "    if cv2.waitKey(10) == 27: \n",
    "        break"
   ]
  },
  {
   "cell_type": "code",
   "execution_count": null,
   "id": "b6ec1a76",
   "metadata": {
    "execution": {
     "iopub.execute_input": "2023-12-15T17:20:21.787615Z",
     "iopub.status.busy": "2023-12-15T17:20:21.787206Z",
     "iopub.status.idle": "2023-12-15T17:20:21.793188Z",
     "shell.execute_reply": "2023-12-15T17:20:21.792023Z",
     "shell.execute_reply.started": "2023-12-15T17:20:21.787580Z"
    },
    "papermill": {
     "duration": null,
     "end_time": null,
     "exception": null,
     "start_time": null,
     "status": "pending"
    },
    "tags": []
   },
   "outputs": [],
   "source": [
    "# Incrementing the variable value by 1.\n",
    "\n",
    "count += 1"
   ]
  },
  {
   "cell_type": "markdown",
   "id": "d1a9e49b",
   "metadata": {
    "papermill": {
     "duration": null,
     "end_time": null,
     "exception": null,
     "start_time": null,
     "status": "pending"
    },
    "tags": []
   },
   "source": [
    "**### Conclusion:**\n",
    "\n",
    "Hence by resizing all the frames of the video, the resolution of video can be increased."
   ]
  }
 ],
 "metadata": {
  "kaggle": {
   "accelerator": "none",
   "dataSources": [
    {
     "datasetId": 4171191,
     "sourceId": 7209272,
     "sourceType": "datasetVersion"
    }
   ],
   "dockerImageVersionId": 30626,
   "isGpuEnabled": false,
   "isInternetEnabled": true,
   "language": "python",
   "sourceType": "notebook"
  },
  "kernelspec": {
   "display_name": "Python 3",
   "language": "python",
   "name": "python3"
  },
  "language_info": {
   "codemirror_mode": {
    "name": "ipython",
    "version": 3
   },
   "file_extension": ".py",
   "mimetype": "text/x-python",
   "name": "python",
   "nbconvert_exporter": "python",
   "pygments_lexer": "ipython3",
   "version": "3.10.12"
  },
  "papermill": {
   "default_parameters": {},
   "duration": 5.905598,
   "end_time": "2023-12-15T17:27:39.821917",
   "environment_variables": {},
   "exception": true,
   "input_path": "__notebook__.ipynb",
   "output_path": "__notebook__.ipynb",
   "parameters": {},
   "start_time": "2023-12-15T17:27:33.916319",
   "version": "2.4.0"
  }
 },
 "nbformat": 4,
 "nbformat_minor": 5
}
